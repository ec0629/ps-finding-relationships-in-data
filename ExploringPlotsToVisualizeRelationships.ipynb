{
 "cells": [
  {
   "cell_type": "code",
   "execution_count": null,
   "metadata": {},
   "outputs": [],
   "source": [
    "import pandas as pd\n",
    "import matplotlib.pyplot as plt\n",
    "\n",
    "from pandas.plotting import register_matplotlib_converters\n",
    "register_matplotlib_converters()"
   ]
  },
  {
   "cell_type": "code",
   "execution_count": null,
   "metadata": {},
   "outputs": [],
   "source": [
    "bikesharing_data = pd.read_csv('datasets/bike_sharing_daily.csv', index_col=0)\n",
    "bikesharing_data.head()"
   ]
  },
  {
   "cell_type": "code",
   "execution_count": null,
   "metadata": {},
   "outputs": [],
   "source": [
    "bikesharing_data['dteday'] = pd.DatetimeIndex(bikesharing_data['dteday'])"
   ]
  },
  {
   "cell_type": "code",
   "execution_count": null,
   "metadata": {},
   "outputs": [],
   "source": [
    "plt.figure(figsize=(20,8))\n",
    "\n",
    "plt.plot(\n",
    "    bikesharing_data['dteday'],\n",
    "    bikesharing_data['registered'],\n",
    "    color='b',\n",
    "    label='registered')\n",
    "\n",
    "plt.plot(\n",
    "    bikesharing_data['dteday'],\n",
    "    bikesharing_data['casual'],\n",
    "    color='r',\n",
    "    label='casual')\n",
    "\n",
    "plt.legend(loc='upper left')\n",
    "\n",
    "plt.title('Bike Sharing Users')\n",
    "plt.xlabel('Date')\n",
    "plt.ylabel('Counts of Bike Rentals')\n",
    "\n",
    "plt.show()"
   ]
  },
  {
   "cell_type": "code",
   "execution_count": null,
   "metadata": {},
   "outputs": [],
   "source": [
    "year_df = bikesharing_data.groupby('yr', as_index=False).mean()\n",
    "year_df[['yr', 'cnt']]"
   ]
  },
  {
   "cell_type": "code",
   "execution_count": null,
   "metadata": {},
   "outputs": [],
   "source": [
    "plt.figure(figsize=(12,8))\n",
    "\n",
    "colors = ['b', 'm']\n",
    "\n",
    "plt.bar(\n",
    "    year_df['yr'],\n",
    "    year_df['cnt'],\n",
    "    width=0.2,\n",
    "    color=colors)\n",
    "\n",
    "plt.xticks([0, 1], ['2011', '2012'])\n",
    "\n",
    "plt.title('Bike Sharing Daily')\n",
    "plt.xlabel('year')\n",
    "plt.ylabel('mean count')\n",
    "\n",
    "plt.show()"
   ]
  },
  {
   "cell_type": "code",
   "execution_count": null,
   "metadata": {},
   "outputs": [],
   "source": [
    "days = bikesharing_data.groupby('workingday', as_index=False).mean()\n",
    "days[['cnt']]"
   ]
  },
  {
   "cell_type": "code",
   "execution_count": null,
   "metadata": {},
   "outputs": [],
   "source": [
    "plt.figure(figsize=(12,8))\n",
    "\n",
    "plt.bar(\n",
    "    days['workingday'],\n",
    "    year_df['cnt'],\n",
    "    width=0.2,\n",
    "    color=['red', 'limegreen'])\n",
    "\n",
    "plt.xticks([0, 1], ['Holiday', 'Working day'])\n",
    "\n",
    "plt.title('Bike Sharing Daily')\n",
    "plt.xlabel('Days')\n",
    "plt.ylabel('Average Counts of Rentals Bikes')\n",
    "\n",
    "plt.show()"
   ]
  },
  {
   "cell_type": "code",
   "execution_count": null,
   "metadata": {},
   "outputs": [],
   "source": [
    "year_data = bikesharing_data.loc[bikesharing_data['yr'] == 1]\n",
    "year_data.head()"
   ]
  },
  {
   "cell_type": "code",
   "execution_count": null,
   "metadata": {},
   "outputs": [],
   "source": [
    "month_df = year_data[['mnth', 'cnt']].groupby('mnth', as_index=False).mean()\n",
    "month_df"
   ]
  },
  {
   "cell_type": "code",
   "execution_count": null,
   "metadata": {},
   "outputs": [],
   "source": [
    "month_df['mnth'].replace([1,2,3,4,5,6,7,8,9,10,11,12],\n",
    "                         ['Jan', 'Feb', 'Mar', 'Apr', 'May', 'Jun',\n",
    "                          'Jul','Aug', 'Sep', 'Oct', 'Nov', 'Dec'],\n",
    "                         inplace=True)\n",
    "month_df"
   ]
  },
  {
   "cell_type": "code",
   "execution_count": null,
   "metadata": {},
   "outputs": [],
   "source": [
    "colors = ['b', 'g', 'r', 'c', 'm', 'y', 'k', 'c']\n",
    "\n",
    "plt.figure(figsize=(12, 8))\n",
    "\n",
    "plt.bar(\n",
    "    month_df['mnth'],\n",
    "    month_df['cnt'],\n",
    "    color=colors)\n",
    "\n",
    "plt.title('Bike Sharing Daily')\n",
    "plt.xlabel('Months')\n",
    "plt.ylabel('Average Counts of Bike Rentals')\n",
    "\n",
    "plt.show()"
   ]
  },
  {
   "cell_type": "code",
   "execution_count": null,
   "metadata": {},
   "outputs": [],
   "source": [
    "plt.figure(figsize=(12, 8))\n",
    "\n",
    "plt.boxplot(bikesharing_data['cnt'])\n",
    "\n",
    "plt.xticks([1], ['Rental Bikes'])\n",
    "plt.title('Bike Sharing Daily')\n",
    "plt.ylabel('Total Counts of Rental Bikes')\n",
    "\n",
    "plt.show()"
   ]
  },
  {
   "cell_type": "code",
   "execution_count": null,
   "metadata": {},
   "outputs": [],
   "source": [
    "selected_bike_data = bikesharing_data[['casual', 'registered']]\n",
    "selected_bike_data.head()"
   ]
  },
  {
   "cell_type": "code",
   "execution_count": null,
   "metadata": {},
   "outputs": [],
   "source": [
    "columns = selected_bike_data.columns\n",
    "columns"
   ]
  },
  {
   "cell_type": "code",
   "execution_count": null,
   "metadata": {},
   "outputs": [],
   "source": [
    "bike_data_array = selected_bike_data.values\n",
    "bike_data_array"
   ]
  },
  {
   "cell_type": "code",
   "execution_count": null,
   "metadata": {},
   "outputs": [],
   "source": [
    "colors = ['g', 'm']\n",
    "\n",
    "bp = plt.boxplot(bike_data_array, patch_artist=True, labels=columns)\n",
    "\n",
    "for i in range(len(bp['boxes'])):\n",
    "    bp['boxes'][i].set(facecolor=colors[i])\n",
    "    \n",
    "plt.title('Bike Sharing Users')\n",
    "plt.xlabel('Users')\n",
    "plt.ylabel('Counts of Bike Rentals')\n",
    "\n",
    "plt.show()"
   ]
  },
  {
   "cell_type": "code",
   "execution_count": null,
   "metadata": {},
   "outputs": [],
   "source": [
    "plt.figure(figsize=(12, 8))\n",
    "vp = plt.violinplot(bike_data_array)\n",
    "    \n",
    "plt.title('Bike Sharing Users')\n",
    "plt.xlabel('Users')\n",
    "plt.ylabel('Counts of Bike Rentals')\n",
    "\n",
    "plt.show()"
   ]
  },
  {
   "cell_type": "code",
   "execution_count": null,
   "metadata": {},
   "outputs": [],
   "source": [
    "season_data = bikesharing_data[['season', 'cnt']]\n",
    "season_data.sample(5)"
   ]
  },
  {
   "cell_type": "code",
   "execution_count": null,
   "metadata": {},
   "outputs": [],
   "source": [
    "grouped_data = season_data.groupby('season', as_index=False).sum()\n",
    "grouped_data.head()"
   ]
  },
  {
   "cell_type": "code",
   "execution_count": null,
   "metadata": {},
   "outputs": [],
   "source": [
    "grouped_data['season'].replace([1, 2, 3, 4],\n",
    "                               ['spring', 'summer', 'fall', 'winter'],\n",
    "                               inplace=True)\n",
    "grouped_data"
   ]
  },
  {
   "cell_type": "code",
   "execution_count": null,
   "metadata": {},
   "outputs": [],
   "source": [
    "plt.figure(figsize=(12, 8))\n",
    "plt.pie(grouped_data['cnt'],labels=grouped_data['season'], autopct='%.lf')\n",
    "    \n",
    "plt.suptitle('Percentage count of Bike Rentals by Season')\n",
    "\n",
    "plt.show()"
   ]
  },
  {
   "cell_type": "code",
   "execution_count": null,
   "metadata": {},
   "outputs": [],
   "source": [
    "plt.figure(figsize=(12, 8))\n",
    "plt.pie(grouped_data['cnt'],\n",
    "        labels=grouped_data['season'],\n",
    "        autopct='%.lf',\n",
    "        wedgeprops={'linewidth': 4, 'edgecolor': 'white'})\n",
    "    \n",
    "plt.suptitle('Percentage count of Bike Rentals by Season')\n",
    "\n",
    "plt.show()"
   ]
  },
  {
   "cell_type": "code",
   "execution_count": null,
   "metadata": {},
   "outputs": [],
   "source": [
    "explode_max = (0,0,0.2,0)\n",
    "explode_min = (0.2,0,0,0)\n",
    "\n",
    "fig, (ax1, ax2) = plt.subplots(1, 2, figsize=(12, 6))\n",
    "\n",
    "wedges, texts, autotexts = ax1.pie(grouped_data['cnt'],\n",
    "                                   labels=grouped_data['season'],\n",
    "                                   autopct='%.lf',\n",
    "                                   explode=explode_max)\n",
    "\n",
    "wedges[2].set(edgecolor='k', linewidth=2)\n",
    "\n",
    "wedges, texts, autotexts = ax2.pie(grouped_data['cnt'],\n",
    "                                   labels=grouped_data['season'],\n",
    "                                   autopct='%.lf',\n",
    "                                   explode=explode_min)\n",
    "\n",
    "wedges[0].set(edgecolor='k', linewidth=2)\n",
    "\n",
    "plt.suptitle('Percentage count of Bike Rentals by Season')\n",
    "\n",
    "plt.show()"
   ]
  },
  {
   "cell_type": "code",
   "execution_count": null,
   "metadata": {},
   "outputs": [],
   "source": []
  }
 ],
 "metadata": {
  "kernelspec": {
   "display_name": "Python 3",
   "language": "python",
   "name": "python3"
  },
  "language_info": {
   "codemirror_mode": {
    "name": "ipython",
    "version": 3
   },
   "file_extension": ".py",
   "mimetype": "text/x-python",
   "name": "python",
   "nbconvert_exporter": "python",
   "pygments_lexer": "ipython3",
   "version": "3.8.5"
  }
 },
 "nbformat": 4,
 "nbformat_minor": 4
}
