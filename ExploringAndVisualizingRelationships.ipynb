{
 "cells": [
  {
   "cell_type": "code",
   "execution_count": null,
   "metadata": {},
   "outputs": [],
   "source": [
    "import matplotlib\n",
    "import pandas as pd\n",
    "\n",
    "import matplotlib.pyplot as plt"
   ]
  },
  {
   "cell_type": "code",
   "execution_count": null,
   "metadata": {},
   "outputs": [],
   "source": [
    "crude_oil_data = pd.read_csv('datasets/crude_oil_data_processed.csv')\n",
    "crude_oil_data.head(5)"
   ]
  },
  {
   "cell_type": "code",
   "execution_count": null,
   "metadata": {},
   "outputs": [],
   "source": [
    "crude_oil_data['Date'] = pd.to_datetime(crude_oil_data['Date'])\n",
    "crude_oil_data['Date'].head()"
   ]
  },
  {
   "cell_type": "code",
   "execution_count": null,
   "metadata": {},
   "outputs": [],
   "source": [
    "crude_oil_data.plot(x='Date', y='U.S. Crude Oil ', figsize=(12, 8), color='brown')\n",
    "plt.ylabel('Production')\n",
    "plt.title('U.S. Crude Oil Production')"
   ]
  },
  {
   "cell_type": "code",
   "execution_count": null,
   "metadata": {},
   "outputs": [],
   "source": [
    "crude_oil_data.boxplot('U.S. Crude Oil ', figsize=(12, 8))\n",
    "plt.ylabel('Production')\n",
    "plt.title('U.S. Crude Oil Production')"
   ]
  },
  {
   "cell_type": "code",
   "execution_count": null,
   "metadata": {},
   "outputs": [],
   "source": [
    "crude_oil_data[['California']].boxplot(figsize=(12, 8))\n",
    "plt.ylabel('Production in California')\n",
    "plt.title('California Crude Oil Production')"
   ]
  },
  {
   "cell_type": "code",
   "execution_count": null,
   "metadata": {},
   "outputs": [],
   "source": [
    "crude_oil_data[['Alaska', 'California']].boxplot(figsize=(12, 8))\n",
    "plt.ylabel('Production in Alaska, California')\n",
    "plt.title('Alaska, California Crude Oil Production')"
   ]
  },
  {
   "cell_type": "code",
   "execution_count": null,
   "metadata": {},
   "outputs": [],
   "source": [
    "crude_oil_data.boxplot(column=['U.S. Crude Oil '], by=['Year'], figsize=(12, 8))\n",
    "plt.ylabel('Production')"
   ]
  },
  {
   "cell_type": "code",
   "execution_count": null,
   "metadata": {},
   "outputs": [],
   "source": [
    "year_data = crude_oil_data.groupby('Year', as_index=False).sum()\n",
    "year_data[['Year', 'U.S. Crude Oil ']]"
   ]
  },
  {
   "cell_type": "code",
   "execution_count": null,
   "metadata": {},
   "outputs": [],
   "source": [
    "colors = ['C0', 'C1', 'C2', 'C3', 'C4', 'C5', 'C6', 'C7', 'C8', 'C9']\n",
    "\n",
    "year_data.plot.bar(\n",
    "    x='Year', y='U.S. Crude Oil ', figsize=(12, 8),\n",
    "    color=colors, legend=False)\n",
    "plt.ylabel('Production')\n",
    "plt.title('U.S. Crude Oil Production')"
   ]
  },
  {
   "cell_type": "code",
   "execution_count": null,
   "metadata": {},
   "outputs": [],
   "source": [
    "mean_prod_data = crude_oil_data.mean(numeric_only=True)[1:-3]\n",
    "mean_prod_data"
   ]
  },
  {
   "cell_type": "code",
   "execution_count": null,
   "metadata": {},
   "outputs": [],
   "source": [
    "mean_prod_data = mean_prod_data.sort_values(ascending=False)\n",
    "mean_prod_data"
   ]
  },
  {
   "cell_type": "code",
   "execution_count": null,
   "metadata": {},
   "outputs": [],
   "source": [
    "mean_prod_df = pd.DataFrame(mean_prod_data).reset_index()\n",
    "mean_prod_df.columns = ['State', 'Production']\n",
    "mean_prod_df.head(10)"
   ]
  },
  {
   "cell_type": "code",
   "execution_count": null,
   "metadata": {},
   "outputs": [],
   "source": [
    "plt.figure(figsize=(12, 8))\n",
    "plt.bar(mean_prod_df['State'], mean_prod_df['Production'], width=0.85)\n",
    "\n",
    "plt.title('U.S. Oil Mean-Production June 2008 to June 2018')\n",
    "\n",
    "plt.xticks(rotation=90)\n",
    "plt.xlabel('State')\n",
    "plt.ylabel('Production')\n",
    "\n",
    "plt.show()"
   ]
  },
  {
   "cell_type": "code",
   "execution_count": null,
   "metadata": {},
   "outputs": [],
   "source": [
    "mean_prod_df['Production'].plot.kde(figsize=(12, 8))\n",
    "\n",
    "plt.title('U.S. Oil Production June 2008 to June 2018')\n",
    "plt.xlabel('Oil Production')\n",
    "\n",
    "plt.show()"
   ]
  },
  {
   "cell_type": "code",
   "execution_count": null,
   "metadata": {},
   "outputs": [],
   "source": [
    "plt.figure(figsize=(12, 8))\n",
    "\n",
    "plt.scatter(\n",
    "    crude_oil_data['Texas'], crude_oil_data['U.S. Crude Oil '], c='g')\n",
    "\n",
    "plt.xlabel('U.S. Production')\n",
    "plt.ylabel('Texas Production')\n",
    "\n",
    "plt.show()"
   ]
  },
  {
   "cell_type": "code",
   "execution_count": null,
   "metadata": {},
   "outputs": [],
   "source": [
    "plt.figure(figsize=(12, 8))\n",
    "\n",
    "plt.scatter(\n",
    "    crude_oil_data['California'], crude_oil_data['U.S. Crude Oil '], c='y')\n",
    "\n",
    "plt.xlabel('U.S. Production')\n",
    "plt.ylabel('California Production')\n",
    "\n",
    "plt.show()"
   ]
  },
  {
   "cell_type": "code",
   "execution_count": null,
   "metadata": {},
   "outputs": [],
   "source": [
    "plt.figure(figsize=(12, 8))\n",
    "\n",
    "plt.scatter(\n",
    "    crude_oil_data['Michigan'], crude_oil_data['U.S. Crude Oil '], c='g')\n",
    "\n",
    "plt.xlabel('U.S. Production')\n",
    "plt.ylabel('Michigan Production')\n",
    "\n",
    "plt.show()"
   ]
  },
  {
   "cell_type": "code",
   "execution_count": null,
   "metadata": {},
   "outputs": [],
   "source": []
  }
 ],
 "metadata": {
  "kernelspec": {
   "display_name": "Python 3",
   "language": "python",
   "name": "python3"
  },
  "language_info": {
   "codemirror_mode": {
    "name": "ipython",
    "version": 3
   },
   "file_extension": ".py",
   "mimetype": "text/x-python",
   "name": "python",
   "nbconvert_exporter": "python",
   "pygments_lexer": "ipython3",
   "version": "3.8.5"
  }
 },
 "nbformat": 4,
 "nbformat_minor": 4
}
