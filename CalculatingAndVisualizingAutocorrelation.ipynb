{
 "cells": [
  {
   "cell_type": "code",
   "execution_count": null,
   "metadata": {},
   "outputs": [],
   "source": [
    "import numpy as np\n",
    "import pandas as pd\n",
    "import matplotlib.pyplot as plt"
   ]
  },
  {
   "cell_type": "code",
   "execution_count": null,
   "metadata": {},
   "outputs": [],
   "source": [
    "bikesharing_data = pd.read_csv('datasets/bike_sharing_hourly.csv', index_col=0)\n",
    "bikesharing_data.head(10)"
   ]
  },
  {
   "cell_type": "code",
   "execution_count": null,
   "metadata": {},
   "outputs": [],
   "source": [
    "bikesharing_data[['temp', 'hum']].describe()"
   ]
  },
  {
   "cell_type": "code",
   "execution_count": null,
   "metadata": {},
   "outputs": [],
   "source": [
    "bikesharing_data[['temp', 'hum']].corr()"
   ]
  },
  {
   "cell_type": "code",
   "execution_count": null,
   "metadata": {},
   "outputs": [],
   "source": [
    "# Autocorrelation - measures the relationship between a variable's current\n",
    "# value and past value\n",
    "bikesharing_data['temp'].autocorr(lag=2)"
   ]
  },
  {
   "cell_type": "code",
   "execution_count": null,
   "metadata": {},
   "outputs": [],
   "source": [
    "bikesharing_data['temp'].autocorr(lag=12)"
   ]
  },
  {
   "cell_type": "code",
   "execution_count": null,
   "metadata": {},
   "outputs": [],
   "source": [
    "bikesharing_data['temp'].autocorr(lag=102)"
   ]
  },
  {
   "cell_type": "code",
   "execution_count": null,
   "metadata": {},
   "outputs": [],
   "source": [
    "bikesharing_data['temp'].autocorr(lag=1002)"
   ]
  },
  {
   "cell_type": "code",
   "execution_count": null,
   "metadata": {},
   "outputs": [],
   "source": [
    "bikesharing_data['hum'].autocorr(lag=12)"
   ]
  },
  {
   "cell_type": "code",
   "execution_count": null,
   "metadata": {},
   "outputs": [],
   "source": [
    "fig, (ax1, ax2) = plt.subplots(2, 1, figsize=(12, 14))\n",
    "\n",
    "ax1.acorr(bikesharing_data['temp'], maxlags=12, color='green')\n",
    "\n",
    "ax1.title.set_text('Temperature')\n",
    "ax1.set_xlabel('Lags', fontsize=15)\n",
    "\n",
    "ax2.acorr(bikesharing_data['hum'], maxlags=12, color='red')\n",
    "\n",
    "ax1.title.set_text('Humidity')\n",
    "ax1.set_xlabel('Lags', fontsize=15)\n",
    "\n",
    "plt.show()"
   ]
  },
  {
   "cell_type": "code",
   "execution_count": null,
   "metadata": {},
   "outputs": [],
   "source": [
    "bikesharing_data['temp'].autocorr(lag=24)"
   ]
  },
  {
   "cell_type": "code",
   "execution_count": null,
   "metadata": {},
   "outputs": [],
   "source": [
    "bikesharing_data['hum'].autocorr(lag=24)"
   ]
  },
  {
   "cell_type": "code",
   "execution_count": null,
   "metadata": {},
   "outputs": [],
   "source": [
    "fig, (ax1, ax2) = plt.subplots(1, 2, figsize=(20, 8))\n",
    "\n",
    "ax1.acorr(bikesharing_data['temp'], maxlags=24, color='deeppink')\n",
    "\n",
    "ax1.title.set_text('Temperature')\n",
    "ax1.set_xlabel('Lags', fontsize=12)\n",
    "\n",
    "ax2.acorr(bikesharing_data['hum'], maxlags=24, color='blue')\n",
    "\n",
    "ax1.title.set_text('Humidity')\n",
    "ax1.set_xlabel('Lags', fontsize=12)\n",
    "\n",
    "plt.suptitle('Autocorrelation')\n",
    "\n",
    "plt.show()"
   ]
  },
  {
   "cell_type": "code",
   "execution_count": null,
   "metadata": {},
   "outputs": [],
   "source": [
    "fig, (ax1, ax2) = plt.subplots(1, 2, figsize=(20, 8))\n",
    "\n",
    "ax1.acorr(bikesharing_data['temp'], maxlags=48, color='red')\n",
    "\n",
    "ax1.title.set_text('Temperature')\n",
    "ax1.set_xlabel('Lags', fontsize=12)\n",
    "\n",
    "ax2.acorr(bikesharing_data['hum'], maxlags=48, color='black')\n",
    "\n",
    "ax1.title.set_text('Humidity')\n",
    "ax1.set_xlabel('Lags', fontsize=12)\n",
    "\n",
    "plt.show()"
   ]
  },
  {
   "cell_type": "code",
   "execution_count": null,
   "metadata": {},
   "outputs": [],
   "source": []
  }
 ],
 "metadata": {
  "kernelspec": {
   "display_name": "Python 3",
   "language": "python",
   "name": "python3"
  },
  "language_info": {
   "codemirror_mode": {
    "name": "ipython",
    "version": 3
   },
   "file_extension": ".py",
   "mimetype": "text/x-python",
   "name": "python",
   "nbconvert_exporter": "python",
   "pygments_lexer": "ipython3",
   "version": "3.8.5"
  }
 },
 "nbformat": 4,
 "nbformat_minor": 4
}
